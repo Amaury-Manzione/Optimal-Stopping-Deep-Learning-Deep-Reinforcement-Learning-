{
 "cells": [
  {
   "cell_type": "code",
   "execution_count": 9,
   "metadata": {},
   "outputs": [],
   "source": [
    "import sys\n",
    "import helper_plots\n",
    "\n",
    "\n",
    "sys.path.append(\"..\")\n",
    "\n",
    "\n",
    "import numpy as np\n",
    "\n",
    "\n",
    "import src.tools.diffusion.black_scholes as bs\n",
    "\n",
    "\n",
    "from torch import nn\n",
    "from torch.utils.data import DataLoader\n",
    "from tqdm import tqdm\n",
    "\n",
    "\n",
    "import matplotlib.pyplot as plt\n",
    "import pandas as pd\n",
    "\n",
    "import torch"
   ]
  },
  {
   "cell_type": "code",
   "execution_count": 10,
   "metadata": {},
   "outputs": [],
   "source": [
    "asset_test = bs.BlackScholes(10,0.1,0.2)"
   ]
  },
  {
   "cell_type": "code",
   "execution_count": 11,
   "metadata": {},
   "outputs": [],
   "source": [
    "paths = asset_test.get_path(10,float(1/10),15)"
   ]
  },
  {
   "cell_type": "code",
   "execution_count": 12,
   "metadata": {},
   "outputs": [],
   "source": [
    "paths_to_tensor = DataLoader(paths,batch_size=3)"
   ]
  },
  {
   "cell_type": "code",
   "execution_count": 15,
   "metadata": {},
   "outputs": [
    {
     "name": "stdout",
     "output_type": "stream",
     "text": [
      "tensor([[10.0000, 10.4301, 12.2538, 12.2011, 12.8235, 13.4238, 14.1695, 15.1766,\n",
      "         15.6856, 16.7943],\n",
      "        [10.0000,  8.8037,  8.8770,  8.3857,  8.1517,  8.6693,  8.2832,  8.0820,\n",
      "          7.8534,  7.0413],\n",
      "        [10.0000,  9.3577,  9.6656,  9.6744,  9.8533, 10.2102, 10.1792,  9.9915,\n",
      "          9.9524,  9.8213]], dtype=torch.float64)\n",
      "torch.Size([3, 10])\n"
     ]
    }
   ],
   "source": [
    "loop = iter(paths_to_tensor)\n",
    "for data in loop:\n",
    "    print(data)\n",
    "    print(data.shape)\n",
    "    break"
   ]
  }
 ],
 "metadata": {
  "kernelspec": {
   "display_name": "optimalstopping-eSLdEogM",
   "language": "python",
   "name": "python3"
  },
  "language_info": {
   "codemirror_mode": {
    "name": "ipython",
    "version": 3
   },
   "file_extension": ".py",
   "mimetype": "text/x-python",
   "name": "python",
   "nbconvert_exporter": "python",
   "pygments_lexer": "ipython3",
   "version": "3.11.9"
  }
 },
 "nbformat": 4,
 "nbformat_minor": 2
}
